{
 "cells": [
  {
   "cell_type": "markdown",
   "id": "afc65ece-4da1-48a2-8eb0-15c8a3873864",
   "metadata": {},
   "source": [
    "# Bot UserName Telegram\n",
    "## @ServePro_bot"
   ]
  },
  {
   "cell_type": "code",
   "execution_count": 2,
   "id": "fa1d9e9d-d4f6-42d6-ae67-689658b687f1",
   "metadata": {},
   "outputs": [],
   "source": [
    "from telegram import Update\n",
    "from telegram.ext import Application, CommandHandler, MessageHandler, ContextTypes, filters\n",
    "import pandas as pd\n",
    "import nest_asyncio\n",
    "import joblib\n",
    "import os\n",
    "import asyncio\n",
    "import re"
   ]
  },
  {
   "cell_type": "code",
   "execution_count": 3,
   "id": "f48640c8-00d9-418e-9fb6-1c5947c409f1",
   "metadata": {},
   "outputs": [],
   "source": [
    "# Apply nest_asyncio for Jupyter Notebook compatibility\n",
    "nest_asyncio.apply()"
   ]
  },
  {
   "cell_type": "code",
   "execution_count": 4,
   "id": "a53f7143-011b-47dd-ae02-24e35accc9be",
   "metadata": {},
   "outputs": [
    {
     "name": "stderr",
     "output_type": "stream",
     "text": [
      "C:\\ProgramData\\anaconda3\\Lib\\site-packages\\sklearn\\base.py:376: InconsistentVersionWarning: Trying to unpickle estimator KNeighborsClassifier from version 1.5.2 when using version 1.5.1. This might lead to breaking code or invalid results. Use at your own risk. For more info please refer to:\n",
      "https://scikit-learn.org/stable/model_persistence.html#security-maintainability-limitations\n",
      "  warnings.warn(\n"
     ]
    }
   ],
   "source": [
    "# Load the trained model and data\n",
    "knn_model = joblib.load(\"knn_model.pkl\")\n",
    "data = pd.read_csv(\"Final_Merged_Data.csv\")"
   ]
  },
  {
   "cell_type": "code",
   "execution_count": 5,
   "id": "1aa3845c-30c5-42a4-a7ca-3a12d2631d6f",
   "metadata": {},
   "outputs": [],
   "source": [
    "# Clean up column names\n",
    "data.columns = [col.strip() for col in data.columns]"
   ]
  },
  {
   "cell_type": "code",
   "execution_count": 6,
   "id": "36b13066-b038-48b4-a5f0-9e9a07d10452",
   "metadata": {},
   "outputs": [],
   "source": [
    "# Start command\n",
    "async def start(update: Update, context: ContextTypes.DEFAULT_TYPE) -> None:\n",
    "    await update.message.reply_text(\n",
    "        \"Hello! Send me the name of a city and the type of service (e.g., 'Brampton, Electricians'), and I'll provide you with the top 5 service providers in that area!\"\n",
    "    )"
   ]
  },
  {
   "cell_type": "code",
   "execution_count": 7,
   "id": "391c36e2-e651-46c1-b8b2-5ac19d559009",
   "metadata": {},
   "outputs": [],
   "source": [
    "# Handle user input to provide top 5 service provider suggestions\n",
    "async def handle_city_service(update: Update, context: ContextTypes.DEFAULT_TYPE) -> None:\n",
    "    try:\n",
    "        user_input = update.message.text.strip().lower()\n",
    "        \n",
    "        # Expecting input in the format: city, service_type\n",
    "        if ',' not in user_input:\n",
    "            await update.message.reply_text(\"Please provide input in the format: city, service_type (e.g., 'Brampton, Electricians')\")\n",
    "            return\n",
    "        \n",
    "        city, service_type = [x.strip() for x in user_input.split(',', 1)]\n",
    "        \n",
    "        # Filter dataset by location and service type\n",
    "        filtered_data = data[(data['Location'].str.lower() == city) & (data['Services Provided'].str.lower().str.contains(service_type))]\n",
    "        \n",
    "        if filtered_data.empty:\n",
    "            await update.message.reply_text(f\"Sorry, I couldn't find any {service_type} service providers in {city}. Please try another city or service type.\")\n",
    "        else:\n",
    "            # Track the number of providers already shown\n",
    "            context.user_data.setdefault('offset', 0)\n",
    "            offset = context.user_data['offset']\n",
    "            \n",
    "            # Sort by rating and select next 5 providers\n",
    "            top_providers = filtered_data.sort_values(by='Rating', ascending=False).iloc[offset:offset+5]\n",
    "            \n",
    "            if top_providers.empty:\n",
    "                await update.message.reply_text(\"No more service providers to show. Send 'more' if you want to see more options.\")\n",
    "                return\n",
    "            \n",
    "            response = f\"Here are the top {service_type} service providers in {city.capitalize()}:\\n\"\n",
    "            for _, row in top_providers.iterrows():\n",
    "                response += f\"- {row['Name']} (Rating: {row['Rating']})\\n  Address: {row['Address']}\\n  Phone: {row['Phone Number']}\\n  Website: {row['Website']}\\n\\n\"\n",
    "            await update.message.reply_text(response)\n",
    "            \n",
    "            # Update the offset to show more providers next time\n",
    "            context.user_data['offset'] += 5\n",
    "            await update.message.reply_text(\"If you want to see more service providers, please type 'more'.\")\n",
    "    except Exception as e:\n",
    "        await update.message.reply_text(f\"An error occurred: {e}\")"
   ]
  },
  {
   "cell_type": "code",
   "execution_count": null,
   "id": "3b3e3fd2-f0d5-4b5f-8ec3-788f19acf40a",
   "metadata": {},
   "outputs": [],
   "source": [
    "# Main function to run the bot\n",
    "async def main():\n",
    "    # Use your bot token here\n",
    "    bot_token = os.getenv(\"TELEGRAM_BOT_TOKEN\", \"7829481199:AAHqIdl2K4BrpCOWcEqjcv6Zt9z-t2-sBHw\")\n",
    "    application = Application.builder().token(bot_token).build()\n",
    "\n",
    "    # Add command handlers\n",
    "    application.add_handler(CommandHandler(\"start\", start))\n",
    "    application.add_handler(MessageHandler(filters.TEXT & ~filters.COMMAND, handle_city_service))\n",
    "\n",
    "    # Run the bot\n",
    "    await application.run_polling()\n",
    "\n",
    "# Run the bot in Jupyter Notebook or as a script\n",
    "await main()"
   ]
  },
  {
   "cell_type": "code",
   "execution_count": null,
   "id": "2cefeaeb-5d86-4d82-8570-acad624ccfab",
   "metadata": {},
   "outputs": [],
   "source": []
  }
 ],
 "metadata": {
  "kernelspec": {
   "display_name": "Python 3 (ipykernel)",
   "language": "python",
   "name": "python3"
  },
  "language_info": {
   "codemirror_mode": {
    "name": "ipython",
    "version": 3
   },
   "file_extension": ".py",
   "mimetype": "text/x-python",
   "name": "python",
   "nbconvert_exporter": "python",
   "pygments_lexer": "ipython3",
   "version": "3.12.7"
  }
 },
 "nbformat": 4,
 "nbformat_minor": 5
}
